{
 "cells": [
  {
   "cell_type": "markdown",
   "id": "fa6becbc-1a53-497c-9ca0-12b02d8bbd01",
   "metadata": {},
   "source": [
    "Question no.1"
   ]
  },
  {
   "cell_type": "code",
   "execution_count": 1,
   "id": "7077ac66-2743-4b20-a24b-75d4fe5bfe26",
   "metadata": {},
   "outputs": [
    {
     "ename": "SyntaxError",
     "evalue": "invalid syntax (2347473370.py, line 1)",
     "output_type": "error",
     "traceback": [
      "\u001b[0;36m  Cell \u001b[0;32mIn[1], line 1\u001b[0;36m\u001b[0m\n\u001b[0;31m    // abstract class\u001b[0m\n\u001b[0m    ^\u001b[0m\n\u001b[0;31mSyntaxError\u001b[0m\u001b[0;31m:\u001b[0m invalid syntax\n"
     ]
    }
   ],
   "source": [
    "// abstract class\n",
    "abstract class car\n",
    "abstract void accelerate():"
   ]
  },
  {
   "cell_type": "code",
   "execution_count": null,
   "id": "8965c995-e677-4118-8d79-5a5949df0026",
   "metadata": {},
   "outputs": [],
   "source": [
    "// Concrete class\n",
    "class suzuki extrend car\n",
    "void accelerate ()\n",
    "system out print\n",
    "( \" suzuki accelerate \")"
   ]
  },
  {
   "cell_type": "code",
   "execution_count": null,
   "id": "201a05c8-a96f-436c-aae9-1f2f44b30047",
   "metadata": {},
   "outputs": [],
   "source": [
    "class main\n",
    "public static void main ( string args )"
   ]
  },
  {
   "cell_type": "code",
   "execution_count": null,
   "id": "068da951-c5bc-4833-b754-2aecfd158574",
   "metadata": {},
   "outputs": [],
   "source": [
    "car obj= new suzuki () \n",
    "obj accelerate"
   ]
  },
  {
   "cell_type": "markdown",
   "id": "71b6603d-eca5-4f32-a35a-f075855e0d96",
   "metadata": {},
   "source": [
    "Question no. 2"
   ]
  },
  {
   "cell_type": "code",
   "execution_count": null,
   "id": "2f5ec0b3-4b2e-4655-8851-147b107c9d21",
   "metadata": {},
   "outputs": [],
   "source": [
    "Abstraction is a way of representing some specific data encpsulation is away of hiding the complexity\n",
    "of something and exposing only the parts you wish to expose"
   ]
  },
  {
   "cell_type": "code",
   "execution_count": null,
   "id": "114e8de0-84bf-4c98-8d88-5ade31f47ed3",
   "metadata": {},
   "outputs": [],
   "source": [
    "Question no.3"
   ]
  },
  {
   "cell_type": "code",
   "execution_count": null,
   "id": "4c90ab7a-ff9b-4275-bd17-69a667db7945",
   "metadata": {},
   "outputs": [],
   "source": [
    "Python libarary provides the infractures for defining custom abstraction base classes"
   ]
  },
  {
   "cell_type": "code",
   "execution_count": null,
   "id": "9f509dde-d7ac-4de1-b6f1-c7a48b355e45",
   "metadata": {},
   "outputs": [],
   "source": [
    "use ABC if you want to reuse code"
   ]
  },
  {
   "cell_type": "code",
   "execution_count": null,
   "id": "6429cfeb-2868-471a-b9a4-037ce5b29b6a",
   "metadata": {},
   "outputs": [],
   "source": [
    "Question no.4"
   ]
  },
  {
   "cell_type": "code",
   "execution_count": null,
   "id": "ecf45081-685c-49f0-a9ba-0afe4e8e903b",
   "metadata": {},
   "outputs": [],
   "source": [
    "The reduction of a particulr body of data to a simplified representation of the whole"
   ]
  },
  {
   "cell_type": "code",
   "execution_count": null,
   "id": "47c9e5b3-807a-4721-8243-66312476249a",
   "metadata": {},
   "outputs": [],
   "source": [
    "Question no.5"
   ]
  },
  {
   "cell_type": "code",
   "execution_count": null,
   "id": "69334870-1f78-4a42-be4d-c85c88a3473a",
   "metadata": {},
   "outputs": [],
   "source": [
    "We cannot creat "
   ]
  }
 ],
 "metadata": {
  "kernelspec": {
   "display_name": "Python 3 (ipykernel)",
   "language": "python",
   "name": "python3"
  },
  "language_info": {
   "codemirror_mode": {
    "name": "ipython",
    "version": 3
   },
   "file_extension": ".py",
   "mimetype": "text/x-python",
   "name": "python",
   "nbconvert_exporter": "python",
   "pygments_lexer": "ipython3",
   "version": "3.10.8"
  }
 },
 "nbformat": 4,
 "nbformat_minor": 5
}
